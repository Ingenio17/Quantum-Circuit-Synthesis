{
  "nbformat": 4,
  "nbformat_minor": 0,
  "metadata": {
    "colab": {
      "provenance": []
    },
    "kernelspec": {
      "name": "python3",
      "display_name": "Python 3"
    },
    "language_info": {
      "name": "python"
    }
  },
  "cells": [
    {
      "cell_type": "markdown",
      "source": [
        "**EE677: Foundation of VLSI CAD** \\\\\n",
        "**Course Project: Quantum Circuit Synthesis**"
      ],
      "metadata": {
        "id": "tBkGZP-IETC8"
      }
    },
    {
      "cell_type": "markdown",
      "source": [
        "*Saumya Shah (22B1238) <br>\n",
        "Harshil Singla (22B1260) <br>\n",
        "Dattaraj Salunkhe (22B1296) <br>\n",
        "Neel Rambhia (22B1298) <br>*"
      ],
      "metadata": {
        "id": "bczUcE4wuF2N"
      }
    },
    {
      "cell_type": "code",
      "source": [
        "!pip install qiskit\n",
        "!pip install pylatexenc\n",
        "import itertools\n",
        "import pandas as pd\n",
        "import random\n",
        "from itertools import product\n",
        "import heapq\n",
        "from qiskit import QuantumCircuit"
      ],
      "metadata": {
        "colab": {
          "base_uri": "https://localhost:8080/"
        },
        "id": "jSmpKqiObOa-",
        "outputId": "39e96f47-e388-4603-d069-9a3fb19f447e"
      },
      "execution_count": null,
      "outputs": [
        {
          "output_type": "stream",
          "name": "stdout",
          "text": [
            "Collecting qiskit\n",
            "  Downloading qiskit-1.3.0-cp39-abi3-manylinux_2_17_x86_64.manylinux2014_x86_64.whl.metadata (12 kB)\n",
            "Collecting rustworkx>=0.15.0 (from qiskit)\n",
            "  Downloading rustworkx-0.15.1-cp38-abi3-manylinux_2_17_x86_64.manylinux2014_x86_64.whl.metadata (9.9 kB)\n",
            "Requirement already satisfied: numpy<3,>=1.17 in /usr/local/lib/python3.10/dist-packages (from qiskit) (1.26.4)\n",
            "Requirement already satisfied: scipy>=1.5 in /usr/local/lib/python3.10/dist-packages (from qiskit) (1.13.1)\n",
            "Requirement already satisfied: sympy>=1.3 in /usr/local/lib/python3.10/dist-packages (from qiskit) (1.13.1)\n",
            "Collecting dill>=0.3 (from qiskit)\n",
            "  Downloading dill-0.3.9-py3-none-any.whl.metadata (10 kB)\n",
            "Requirement already satisfied: python-dateutil>=2.8.0 in /usr/local/lib/python3.10/dist-packages (from qiskit) (2.8.2)\n",
            "Collecting stevedore>=3.0.0 (from qiskit)\n",
            "  Downloading stevedore-5.4.0-py3-none-any.whl.metadata (2.3 kB)\n",
            "Requirement already satisfied: typing-extensions in /usr/local/lib/python3.10/dist-packages (from qiskit) (4.12.2)\n",
            "Collecting symengine<0.14,>=0.11 (from qiskit)\n",
            "  Downloading symengine-0.13.0-cp310-cp310-manylinux_2_17_x86_64.manylinux2014_x86_64.whl.metadata (1.2 kB)\n",
            "Requirement already satisfied: six>=1.5 in /usr/local/lib/python3.10/dist-packages (from python-dateutil>=2.8.0->qiskit) (1.16.0)\n",
            "Collecting pbr>=2.0.0 (from stevedore>=3.0.0->qiskit)\n",
            "  Downloading pbr-6.1.0-py2.py3-none-any.whl.metadata (3.4 kB)\n",
            "Requirement already satisfied: mpmath<1.4,>=1.1.0 in /usr/local/lib/python3.10/dist-packages (from sympy>=1.3->qiskit) (1.3.0)\n",
            "Downloading qiskit-1.3.0-cp39-abi3-manylinux_2_17_x86_64.manylinux2014_x86_64.whl (6.7 MB)\n",
            "\u001b[2K   \u001b[90m━━━━━━━━━━━━━━━━━━━━━━━━━━━━━━━━━━━━━━━━\u001b[0m \u001b[32m6.7/6.7 MB\u001b[0m \u001b[31m25.5 MB/s\u001b[0m eta \u001b[36m0:00:00\u001b[0m\n",
            "\u001b[?25hDownloading dill-0.3.9-py3-none-any.whl (119 kB)\n",
            "\u001b[2K   \u001b[90m━━━━━━━━━━━━━━━━━━━━━━━━━━━━━━━━━━━━━━━━\u001b[0m \u001b[32m119.4/119.4 kB\u001b[0m \u001b[31m6.3 MB/s\u001b[0m eta \u001b[36m0:00:00\u001b[0m\n",
            "\u001b[?25hDownloading rustworkx-0.15.1-cp38-abi3-manylinux_2_17_x86_64.manylinux2014_x86_64.whl (2.0 MB)\n",
            "\u001b[2K   \u001b[90m━━━━━━━━━━━━━━━━━━━━━━━━━━━━━━━━━━━━━━━━\u001b[0m \u001b[32m2.0/2.0 MB\u001b[0m \u001b[31m26.4 MB/s\u001b[0m eta \u001b[36m0:00:00\u001b[0m\n",
            "\u001b[?25hDownloading stevedore-5.4.0-py3-none-any.whl (49 kB)\n",
            "\u001b[2K   \u001b[90m━━━━━━━━━━━━━━━━━━━━━━━━━━━━━━━━━━━━━━━━\u001b[0m \u001b[32m49.5/49.5 kB\u001b[0m \u001b[31m3.1 MB/s\u001b[0m eta \u001b[36m0:00:00\u001b[0m\n",
            "\u001b[?25hDownloading symengine-0.13.0-cp310-cp310-manylinux_2_17_x86_64.manylinux2014_x86_64.whl (49.7 MB)\n",
            "\u001b[2K   \u001b[90m━━━━━━━━━━━━━━━━━━━━━━━━━━━━━━━━━━━━━━━━\u001b[0m \u001b[32m49.7/49.7 MB\u001b[0m \u001b[31m8.8 MB/s\u001b[0m eta \u001b[36m0:00:00\u001b[0m\n",
            "\u001b[?25hDownloading pbr-6.1.0-py2.py3-none-any.whl (108 kB)\n",
            "\u001b[2K   \u001b[90m━━━━━━━━━━━━━━━━━━━━━━━━━━━━━━━━━━━━━━━━\u001b[0m \u001b[32m108.5/108.5 kB\u001b[0m \u001b[31m7.6 MB/s\u001b[0m eta \u001b[36m0:00:00\u001b[0m\n",
            "\u001b[?25hInstalling collected packages: symengine, rustworkx, pbr, dill, stevedore, qiskit\n",
            "Successfully installed dill-0.3.9 pbr-6.1.0 qiskit-1.3.0 rustworkx-0.15.1 stevedore-5.4.0 symengine-0.13.0\n",
            "Collecting pylatexenc\n",
            "  Downloading pylatexenc-2.10.tar.gz (162 kB)\n",
            "\u001b[2K     \u001b[90m━━━━━━━━━━━━━━━━━━━━━━━━━━━━━━━━━━━━━━━━\u001b[0m \u001b[32m162.6/162.6 kB\u001b[0m \u001b[31m9.7 MB/s\u001b[0m eta \u001b[36m0:00:00\u001b[0m\n",
            "\u001b[?25h  Preparing metadata (setup.py) ... \u001b[?25l\u001b[?25hdone\n",
            "Building wheels for collected packages: pylatexenc\n",
            "  Building wheel for pylatexenc (setup.py) ... \u001b[?25l\u001b[?25hdone\n",
            "  Created wheel for pylatexenc: filename=pylatexenc-2.10-py3-none-any.whl size=136816 sha256=fda5d878a204d849eab7df1a4b168884507a7f73402e18204bebae4b0e101a51\n",
            "  Stored in directory: /root/.cache/pip/wheels/d3/31/8b/e09b0386afd80cfc556c00408c9aeea5c35c4d484a9c762fd5\n",
            "Successfully built pylatexenc\n",
            "Installing collected packages: pylatexenc\n",
            "Successfully installed pylatexenc-2.10\n"
          ]
        }
      ]
    },
    {
      "cell_type": "markdown",
      "source": [
        "## Part 1:\n",
        "Making Truth Table reversible and expressing it's **Reed Muller Form**"
      ],
      "metadata": {
        "id": "_9DoU22Hua3i"
      }
    },
    {
      "cell_type": "code",
      "source": [
        "def make_truth_table_reversible(truth_table):\n",
        "    \"\"\"\n",
        "    Convert a given truth table into its reversible form with minimal additional bits.\n",
        "\n",
        "    Parameters:\n",
        "    truth_table (list of tuples): Each tuple represents a row of the truth table\n",
        "                                  in the format (inputs, outputs).\n",
        "\n",
        "    Returns:\n",
        "    list of tuples: A reversible truth table with a one-to-one mapping.\n",
        "    \"\"\"\n",
        "    reversible_table = []\n",
        "    input_length = len(truth_table[0][0])  # Length of input bits\n",
        "    output_length = len(truth_table[0][1])  # Length of output bits\n",
        "\n",
        "    # Group outputs and identify conflicts\n",
        "    output_groups = {}\n",
        "    for inputs, outputs in truth_table:\n",
        "        if outputs not in output_groups:\n",
        "            output_groups[outputs] = []\n",
        "        output_groups[outputs].append(inputs)\n",
        "\n",
        "    # Determine the minimum number of ancilla bits needed\n",
        "    max_conflicts = max(len(inputs) for inputs in output_groups.values())\n",
        "    num_ancilla_bits = (max_conflicts - 1).bit_length()  # Minimum bits to resolve conflicts\n",
        "\n",
        "    # Generate ancilla combinations\n",
        "    ancilla_values = list(itertools.product([0, 1], repeat=num_ancilla_bits))\n",
        "\n",
        "    # Build the reversible table\n",
        "    for outputs, inputs_group in output_groups.items():\n",
        "        for idx, inputs in enumerate(inputs_group):\n",
        "            ancilla_bits = ancilla_values[idx]\n",
        "            reversible_table.append((inputs + (0,) * num_ancilla_bits, outputs + ancilla_bits))\n",
        "\n",
        "    return reversible_table\n",
        "\n",
        "\n",
        "\n",
        "\n",
        "def append_for_unique_values(truth_table):\n",
        "    # Step 1: Determine the difference between the number of inputs and outputs\n",
        "    max_inputs = max(len(inputs) for inputs, outputs in truth_table)\n",
        "    max_outputs = max(len(outputs) if isinstance(outputs, tuple) else 1 for inputs, outputs in truth_table)\n",
        "    diff = max_inputs - max_outputs\n",
        "\n",
        "    # Step 2: Decide whether to append to inputs or outputs\n",
        "    append_to = \"outputs\" if diff > 0 else \"inputs\"\n",
        "    num_columns_to_add = abs(diff)\n",
        "\n",
        "    if num_columns_to_add == 0:\n",
        "        print(\"No need to append columns, inputs and outputs are already equal.\")\n",
        "        return truth_table, max_outputs\n",
        "\n",
        "    # Step 3: Generate all possible combinations for new columns\n",
        "    possible_combinations = list(product([0, 1], repeat=num_columns_to_add))\n",
        "    used_combinations = set()\n",
        "    total_combinations = len(possible_combinations)\n",
        "\n",
        "    # Step 4: Append new columns to maximize unique rows\n",
        "    updated_table = []\n",
        "    for i, (inputs, outputs) in enumerate(truth_table):\n",
        "        inputs = tuple(inputs)\n",
        "        outputs = tuple(outputs if isinstance(outputs, tuple) else (outputs,))\n",
        "\n",
        "        # Select a new combination\n",
        "        for combination in possible_combinations:\n",
        "            if combination not in used_combinations:\n",
        "                used_combinations.add(combination)\n",
        "                break\n",
        "        else:\n",
        "            # If all combinations are used, reuse a combination\n",
        "            combination = possible_combinations[i % total_combinations]\n",
        "\n",
        "        # Append the combination to the appropriate part (inputs or outputs)\n",
        "        if append_to == \"outputs\":\n",
        "            new_outputs = outputs + combination\n",
        "            new_inputs = inputs\n",
        "        else:\n",
        "            new_inputs = inputs + combination\n",
        "            new_outputs = outputs\n",
        "\n",
        "        updated_table.append((new_inputs, new_outputs))\n",
        "\n",
        "    return updated_table, max_outputs\n",
        "\n",
        "\n",
        "\n",
        "def reduce_array(arr):\n",
        "  #If terms are repeating: odd no. of terms ==> keep one copy, even no. of terms ==> remove all copies\n",
        "  row_cts = {}\n",
        "  for row in arr:\n",
        "    row_tuple = tuple(row)\n",
        "    row_cts[row_tuple] = row_cts.get(row_tuple,0) + 1\n",
        "\n",
        "  red_arr = [list(row) for row, count in row_cts.items() if count%2 == 1]\n",
        "  return red_arr\n",
        "\n",
        "\n",
        "\n",
        "def reed_muller_form(truth_table):\n",
        "    # Initialize the Reed-Muller form\n",
        "    rm_form = []\n",
        "\n",
        "    # Iterate over the outputs (second element of each pair in the truth table)\n",
        "    num_outputs = len(truth_table[0][1])  # The number of output bits\n",
        "    for output_index in range(num_outputs):\n",
        "        # Collect input combinations for which the output is 1\n",
        "        terms = []\n",
        "        for inputs, outputs in truth_table:\n",
        "            if outputs[output_index] == 1:\n",
        "              k = list(inputs)\n",
        "              zero_indices = [i for i, bit in enumerate(k) if bit == 0]\n",
        "\n",
        "              # Generate all combinations of 0s and 1s for the zero indices\n",
        "              combinations = product([0, 1], repeat=len(zero_indices))\n",
        "\n",
        "              # Build the output by replacing 0s in the input string with each combination\n",
        "              for combo in combinations:\n",
        "                  result = k[:]  # Copy the original bit string\n",
        "                  for idx, value in zip(zero_indices, combo):\n",
        "                      result[idx] = value  # Replace 0s with the current combination\n",
        "                  terms.append(result)\n",
        "                  terms = reduce_array(terms)\n",
        "        # If we have terms for the current output, add them to the Reed-Muller form\n",
        "        if terms:\n",
        "            rm_form.append(terms)\n",
        "    return rm_form\n",
        "\n",
        "\n",
        "\n",
        "def print_reed_muller_circuit(data):\n",
        "  output = []\n",
        "  for idx, terms in enumerate(data):\n",
        "    equation = f\"x{idx}t = \"\n",
        "    term_strings = []\n",
        "    for term in terms:\n",
        "      # Generate a term based on its binary representation\n",
        "      sub_term = []\n",
        "      for i, value in enumerate(term):\n",
        "        if value == 1:\n",
        "          sub_term.append(f\"x{i}\")\n",
        "      if sub_term:\n",
        "        # Join sub-term variables with a dot for AND\n",
        "        term_strings.append(\"·\".join(sub_term))\n",
        "      else:\n",
        "        term_strings.append(\"1\")  # For constant terms\n",
        "    # Join terms with ⊕ for XOR\n",
        "    equation += \" ⊕ \".join(term_strings)\n",
        "    output.append(equation)\n",
        "  return \"\\n\".join(output)\n",
        "\n",
        "\n",
        "\n",
        "\n",
        "def complete_truth_table(truth_table):\n",
        "    # Extract all the inputs and outputs already in the table\n",
        "    existing_inputs = [entry[0] for entry in truth_table]\n",
        "    existing_outputs = [entry[1] for entry in truth_table]\n",
        "\n",
        "    # Determine the number of bits based on input tuple size\n",
        "    num_bits = len(existing_inputs[0])\n",
        "\n",
        "    # Generate all possible input-output pairs (all combinations of the bits)\n",
        "    all_inputs = list(itertools.product([0, 1], repeat=num_bits))\n",
        "    all_outputs = list(itertools.product([0, 1], repeat=num_bits))\n",
        "\n",
        "    # Find missing input-output pairs by checking the ones not in the existing table\n",
        "    missing_inputs = set(all_inputs) - set(existing_inputs)\n",
        "    missing_outputs = set(all_outputs) - set(existing_outputs)\n",
        "\n",
        "    # If the number of missing inputs doesn't match the number of missing outputs,\n",
        "    # the bijection cannot be completed\n",
        "    if len(missing_inputs) != len(missing_outputs):\n",
        "        raise ValueError(\"Cannot complete the truth table, bijection is not possible.\")\n",
        "\n",
        "    # Create a dictionary to map the missing inputs to the missing outputs\n",
        "    missing_pairs = zip(missing_inputs, missing_outputs)\n",
        "\n",
        "    # Add the missing pairs to the truth table\n",
        "    completed_truth_table = truth_table + list(missing_pairs)\n",
        "\n",
        "    return completed_truth_table"
      ],
      "metadata": {
        "id": "c9Hg0MwJcVCS"
      },
      "execution_count": null,
      "outputs": []
    },
    {
      "cell_type": "markdown",
      "source": [
        "## Part 2:\n",
        "Building a Quantum Circuit from the Reed Muller Form"
      ],
      "metadata": {
        "id": "edJt02tAumoL"
      }
    },
    {
      "cell_type": "code",
      "source": [
        "class Node:\n",
        "  def __init__(self, depth, terms, pprm, elim, id, factor=None, parent=None):\n",
        "    self.depth = depth\n",
        "    self.terms = terms\n",
        "    self.pprm = pprm\n",
        "    self.elim = elim\n",
        "    self.factor = factor\n",
        "    self.parent = parent\n",
        "    self.id = id\n",
        "    self.priority = float('inf')  # Default priority\n",
        "\n",
        "  def __lt__(self, other):\n",
        "    return self.priority < other.priority\n",
        "\n",
        "\n",
        "def pprm_synthesis(pprm_array, alpha, beta, gamma, time_limit, imp_bits, num_original_outputs):\n",
        "  import time\n",
        "\n",
        "  num_inputs = len(pprm_array[0][0])\n",
        "  # Initialize root node\n",
        "  init_terms = len(pprm_array)\n",
        "  assert(num_inputs == init_terms)\n",
        "  root_node = Node(\n",
        "    depth=0,\n",
        "    terms=init_terms,\n",
        "    pprm=pprm_array,\n",
        "    elim=0,\n",
        "    id = 0\n",
        "  )\n",
        "\n",
        "  # Priority queue setup\n",
        "  priority_queue = []\n",
        "  heapq.heappush(priority_queue, (root_node.priority, root_node))\n",
        "\n",
        "  # Best solution tracking\n",
        "  best_solution = None\n",
        "  best_depth = float('inf')\n",
        "\n",
        "  # Timer\n",
        "  start_time = time.time()\n",
        "  id = 1\n",
        "  while priority_queue and (time.time() - start_time) < time_limit:\n",
        "      # Get the node with the highest priority (lowest priority value)\n",
        "      _, parent_node = heapq.heappop(priority_queue)\n",
        "\n",
        "      # Prune search tree\n",
        "      if parent_node.depth >= best_depth - 1:\n",
        "          continue\n",
        "\n",
        "      parent_node_pprm = parent_node.pprm\n",
        "      # Explore all output variables in the PPRM of the node\n",
        "      for i in range(num_inputs):\n",
        "        vi_pprm = parent_node_pprm[i]\n",
        "\n",
        "        # Explore all factors in vi's PPRM that do not contain vi\n",
        "        for factor in vi_pprm:\n",
        "          vi = []\n",
        "          for r in range(num_inputs):\n",
        "            if(r == i):\n",
        "              vi.append(1)\n",
        "            else:\n",
        "              vi.append(0)\n",
        "          if factor[i] == 0:  # Ensure vi is not in the factor\n",
        "            # Create a new child node\n",
        "            child_pprm = substitute_pprm(parent_node.pprm, vi, i, factor)\n",
        "            child_node = Node(\n",
        "              depth=parent_node.depth + 1,\n",
        "              terms=len(child_pprm),\n",
        "              pprm=child_pprm,\n",
        "              elim=len(parent_node_pprm[i]) - len(child_pprm[i]),\n",
        "              factor=[vi]+[factor],\n",
        "              parent=parent_node,\n",
        "              id = id\n",
        "            )\n",
        "            id = id + 1\n",
        "\n",
        "            # Check for a better solution\n",
        "            identity_check = []\n",
        "            for p in range(num_inputs):\n",
        "              k = []\n",
        "              for j in range(num_inputs):\n",
        "                if(p == j):\n",
        "                  k.append(1)\n",
        "                else:\n",
        "                  k.append(0)\n",
        "              identity_check.append([k])\n",
        "\n",
        "            arr1 = []\n",
        "            arr2 = []\n",
        "            for t in range(imp_bits):\n",
        "              arr1.append(child_pprm[t])\n",
        "              arr2.append(identity_check[t])\n",
        "            if arr1 == arr2 and child_node.depth < best_depth:\n",
        "              best_solution = child_node\n",
        "              best_depth = child_node.depth\n",
        "\n",
        "            # Calculate priority and add to the queue if viable\n",
        "            if child_node.elim > 0:\n",
        "              child_node.priority = (\n",
        "                alpha * child_node.depth\n",
        "                + beta * child_node.elim / child_node.depth\n",
        "                - gamma * factor_literal_count(factor)\n",
        "              )\n",
        "              heapq.heappush(priority_queue, (child_node.priority, child_node))\n",
        "\n",
        "  # Reconstruct the solution\n",
        "  return reconstruct_solution(best_solution, num_original_outputs)\n",
        "\n",
        "\n",
        "def substitute_pprm(pprm, vi, i, factor):\n",
        "    \"\"\"\n",
        "    Substitute vi = vi ⊕ factor in all PPRM expansions.\n",
        "    \"\"\"\n",
        "    new_pprm = []\n",
        "    for term in pprm:\n",
        "      new_term = []\n",
        "      for sub_term in term:\n",
        "        if sub_term[i] == 1:\n",
        "          # XOR the factor with the term\n",
        "          new_term.append(sub_term)\n",
        "          extra = [1 if (t1 + t2 > 0) else 0 for t1, t2 in zip(sub_term, factor)]\n",
        "          extra[i] = 0\n",
        "          new_term.append(extra)\n",
        "        else:\n",
        "          new_term.append(sub_term)\n",
        "      new_term = reduce_array(new_term)\n",
        "      new_pprm.append(new_term)\n",
        "    return new_pprm\n",
        "\n",
        "\n",
        "def factor_literal_count(factor):\n",
        "    \"\"\"\n",
        "    Count the number of literals in the factor.\n",
        "    \"\"\"\n",
        "    return sum(factor)\n",
        "\n",
        "\n",
        "def reconstruct_solution(node, num_original_outputs):\n",
        "    \"\"\"\n",
        "    Reconstruct the synthesized network of Toffoli gates.\n",
        "    \"\"\"\n",
        "    solution = []\n",
        "    id = []\n",
        "    while node is not None and node.factor is not None:\n",
        "        solution.append(node.factor)\n",
        "        id.append(node.id)\n",
        "        node = node.parent\n",
        "    solution.reverse()  # Reverse the order to get the top-down construction\n",
        "    id.reverse()\n",
        "\n",
        "    qc = QuantumCircuit(len(solution[0][0]), num_original_outputs)\n",
        "    for t1,t2 in solution:\n",
        "      i = t1.index(1)\n",
        "      control_qubits = [ind for ind, value in enumerate(t2) if value == 1]\n",
        "      if(len(control_qubits) == 0):\n",
        "        qc.x(i)\n",
        "      else:\n",
        "        qc.mcx(control_qubits, i)\n",
        "    qc.measure(range(num_original_outputs), range(num_original_outputs))\n",
        "    return qc"
      ],
      "metadata": {
        "id": "nmteY4DkcZ8a"
      },
      "execution_count": null,
      "outputs": []
    },
    {
      "cell_type": "markdown",
      "source": [
        "The below function (**main()**) returns a Quantum Circuit based on Qiskit Framework that can be directly used for Quantum Computing Applications."
      ],
      "metadata": {
        "id": "yJhgOZwuuw3l"
      }
    },
    {
      "cell_type": "code",
      "source": [
        "def main(truth_table, alpha = 0.3, beta = 0.6, gamma = 0.1, time_limit = 10**10):\n",
        "  new_truth_table, num_original_outputs = append_for_unique_values(truth_table)\n",
        "  reversible_table1 = make_truth_table_reversible(new_truth_table)\n",
        "  final_rev_table = complete_truth_table(reversible_table1)\n",
        "  print(\"Reversible Truth Table:\")\n",
        "  for inputs, outputs in final_rev_table:\n",
        "      print(f\"Inputs: {inputs}, Outputs: {outputs}\")\n",
        "  print()\n",
        "\n",
        "  print(\"Reed Muller Formulation:\")\n",
        "  reed_muller_ = reed_muller_form(final_rev_table)\n",
        "\n",
        "  print(print_reed_muller_circuit(reed_muller_))\n",
        "  imp_bits = num_original_outputs\n",
        "  qc = pprm_synthesis(reed_muller_, alpha, beta, gamma, time_limit, imp_bits, num_original_outputs)\n",
        "  display(qc.draw(output = 'mpl'))\n",
        "  return qc"
      ],
      "metadata": {
        "id": "RfGnsX4HcWzM"
      },
      "execution_count": null,
      "outputs": []
    },
    {
      "cell_type": "markdown",
      "source": [
        "## Testing our **Reversible Quantum Circuit Generation Framework**"
      ],
      "metadata": {
        "id": "m2tqEcw1u9tv"
      }
    },
    {
      "cell_type": "markdown",
      "source": [
        "### OR Gate"
      ],
      "metadata": {
        "id": "xjF8sfdtvHyQ"
      }
    },
    {
      "cell_type": "code",
      "source": [
        "truth_table = [\n",
        "    ((0, 0), (0)),\n",
        "    ((0, 1), (1)),\n",
        "    ((1, 0), (1)),\n",
        "    ((1, 1), (1))\n",
        "]\n",
        "\n",
        "qc = main(truth_table)"
      ],
      "metadata": {
        "colab": {
          "base_uri": "https://localhost:8080/",
          "height": 563
        },
        "id": "OUaGxK93cjD8",
        "outputId": "306eae8a-5557-4a5f-ef83-31613a9c9e37"
      },
      "execution_count": null,
      "outputs": [
        {
          "output_type": "stream",
          "name": "stdout",
          "text": [
            "Reversible Truth Table:\n",
            "Inputs: (0, 0, 0), Outputs: (0, 0, 0)\n",
            "Inputs: (0, 1, 0), Outputs: (1, 1, 0)\n",
            "Inputs: (1, 1, 0), Outputs: (1, 1, 1)\n",
            "Inputs: (1, 0, 0), Outputs: (1, 0, 0)\n",
            "Inputs: (1, 0, 1), Outputs: (1, 0, 1)\n",
            "Inputs: (0, 0, 1), Outputs: (0, 0, 1)\n",
            "Inputs: (1, 1, 1), Outputs: (0, 1, 0)\n",
            "Inputs: (0, 1, 1), Outputs: (0, 1, 1)\n",
            "\n",
            "Reed Muller Formulation:\n",
            "x0t = x1 ⊕ x1·x2 ⊕ x0 ⊕ x0·x1\n",
            "x1t = x1\n",
            "x2t = x0·x1 ⊕ x2\n"
          ]
        },
        {
          "output_type": "display_data",
          "data": {
            "text/plain": [
              "<Figure size 454.719x367.889 with 1 Axes>"
            ],
            "image/png": "[encoded data removed]"
          },
          "metadata": {}
        }
      ]
    },
    {
      "cell_type": "markdown",
      "source": [
        "### AND Gate"
      ],
      "metadata": {
        "id": "wsVXXqkfvLGM"
      }
    },
    {
      "cell_type": "code",
      "source": [
        "truth_table = [\n",
        "    ((0, 0), (0)),\n",
        "    ((0, 1), (0)),\n",
        "    ((1, 0), (0)),\n",
        "    ((1, 1), (1))\n",
        "]\n",
        "\n",
        "qc = main(truth_table)"
      ],
      "metadata": {
        "colab": {
          "base_uri": "https://localhost:8080/",
          "height": 563
        },
        "id": "dlUtpuGNcyNI",
        "outputId": "f368862e-c747-4393-81af-9b15b0ce3e9e"
      },
      "execution_count": null,
      "outputs": [
        {
          "output_type": "stream",
          "name": "stdout",
          "text": [
            "Reversible Truth Table:\n",
            "Inputs: (0, 0, 0), Outputs: (0, 0, 0)\n",
            "Inputs: (1, 0, 0), Outputs: (0, 0, 1)\n",
            "Inputs: (0, 1, 0), Outputs: (0, 1, 0)\n",
            "Inputs: (1, 1, 0), Outputs: (1, 1, 0)\n",
            "Inputs: (1, 0, 1), Outputs: (1, 0, 0)\n",
            "Inputs: (0, 0, 1), Outputs: (1, 0, 1)\n",
            "Inputs: (1, 1, 1), Outputs: (1, 1, 1)\n",
            "Inputs: (0, 1, 1), Outputs: (0, 1, 1)\n",
            "\n",
            "Reed Muller Formulation:\n",
            "x0t = x0·x1 ⊕ x2 ⊕ x1·x2\n",
            "x1t = x1\n",
            "x2t = x0 ⊕ x0·x1 ⊕ x2\n"
          ]
        },
        {
          "output_type": "display_data",
          "data": {
            "text/plain": [
              "<Figure size 454.719x367.889 with 1 Axes>"
            ],
            "image/png": "[encoded data removed]"
          },
          "metadata": {}
        }
      ]
    },
    {
      "cell_type": "markdown",
      "source": [
        "### Example given in the Reference Paper:\n",
        "\n",
        "$a_0 = a \\oplus 1$ <br>\n",
        "$b_0 = b \\oplus c \\oplus ac$ <br>\n",
        "$c_0 = b \\oplus ab \\oplus ac$"
      ],
      "metadata": {
        "id": "ThqDzBqzvSQL"
      }
    },
    {
      "cell_type": "code",
      "source": [
        "truth_table = [\n",
        "    ((0, 0, 0), (0, 0, 1)),\n",
        "    ((0, 0, 1), (0, 0, 0)),\n",
        "    ((0, 1, 0), (1, 1, 1)),\n",
        "    ((0, 1, 1), (0, 1, 0)),\n",
        "    ((1, 0, 0), (0, 1, 1)),\n",
        "    ((1, 0, 1), (1, 0, 0)),\n",
        "    ((1, 1, 0), (1, 0, 1)),\n",
        "    ((1, 1, 1), (1, 1, 0)),\n",
        "]\n",
        "\n",
        "qc = main(truth_table)"
      ],
      "metadata": {
        "colab": {
          "base_uri": "https://localhost:8080/",
          "height": 580
        },
        "id": "S6GGBDFKkQFR",
        "outputId": "ceff59b0-a392-46a1-99e7-1b90e52cf5d3"
      },
      "execution_count": null,
      "outputs": [
        {
          "output_type": "stream",
          "name": "stdout",
          "text": [
            "No need to append columns, inputs and outputs are already equal.\n",
            "Reversible Truth Table:\n",
            "Inputs: (0, 0, 0), Outputs: (0, 0, 1)\n",
            "Inputs: (0, 0, 1), Outputs: (0, 0, 0)\n",
            "Inputs: (0, 1, 0), Outputs: (1, 1, 1)\n",
            "Inputs: (0, 1, 1), Outputs: (0, 1, 0)\n",
            "Inputs: (1, 0, 0), Outputs: (0, 1, 1)\n",
            "Inputs: (1, 0, 1), Outputs: (1, 0, 0)\n",
            "Inputs: (1, 1, 0), Outputs: (1, 0, 1)\n",
            "Inputs: (1, 1, 1), Outputs: (1, 1, 0)\n",
            "\n",
            "Reed Muller Formulation:\n",
            "x0t = x1 ⊕ x1·x2 ⊕ x0·x2\n",
            "x1t = x1 ⊕ x0 ⊕ x0·x2\n",
            "x2t = 1 ⊕ x2\n"
          ]
        },
        {
          "output_type": "display_data",
          "data": {
            "text/plain": [
              "<Figure size 621.941x367.889 with 1 Axes>"
            ],
            "image/png": "[encoded data removed]"
          },
          "metadata": {}
        }
      ]
    },
    {
      "cell_type": "markdown",
      "source": [
        "### Half Adder"
      ],
      "metadata": {
        "id": "N-tdZ2wkvNh8"
      }
    },
    {
      "cell_type": "code",
      "source": [
        "truth_table = [\n",
        "    ((0, 0), (0, 0)),\n",
        "    ((1, 0), (0, 1)),\n",
        "    ((0, 1), (0, 1)),\n",
        "    ((1, 1), (1, 0)),\n",
        "]\n",
        "\n",
        "qc = main(truth_table)"
      ],
      "metadata": {
        "colab": {
          "base_uri": "https://localhost:8080/",
          "height": 580
        },
        "id": "junKRKgCe9EX",
        "outputId": "38f8c055-8ad5-4489-bcd8-23654c7c4952"
      },
      "execution_count": null,
      "outputs": [
        {
          "output_type": "stream",
          "name": "stdout",
          "text": [
            "No need to append columns, inputs and outputs are already equal.\n",
            "Reversible Truth Table:\n",
            "Inputs: (0, 0, 0), Outputs: (0, 0, 0)\n",
            "Inputs: (1, 0, 0), Outputs: (0, 1, 0)\n",
            "Inputs: (0, 1, 0), Outputs: (0, 1, 1)\n",
            "Inputs: (1, 1, 0), Outputs: (1, 0, 0)\n",
            "Inputs: (1, 0, 1), Outputs: (1, 0, 1)\n",
            "Inputs: (0, 0, 1), Outputs: (1, 1, 1)\n",
            "Inputs: (1, 1, 1), Outputs: (1, 1, 0)\n",
            "Inputs: (0, 1, 1), Outputs: (0, 0, 1)\n",
            "\n",
            "Reed Muller Formulation:\n",
            "x0t = x0·x1 ⊕ x2 ⊕ x1·x2\n",
            "x1t = x0 ⊕ x1 ⊕ x2\n",
            "x2t = x1 ⊕ x0·x1 ⊕ x2 ⊕ x1·x2\n"
          ]
        },
        {
          "output_type": "display_data",
          "data": {
            "text/plain": [
              "<Figure size 621.941x367.889 with 1 Axes>"
            ],
            "image/png": "[encoded data removed]"
          },
          "metadata": {}
        }
      ]
    },
    {
      "cell_type": "markdown",
      "source": [
        "### Full Adder\n",
        "\n",
        "(Note: It might take a little time for the cell to run completely)"
      ],
      "metadata": {
        "id": "A-nlTSLJvp4U"
      }
    },
    {
      "cell_type": "code",
      "source": [
        "truth_table = [\n",
        "    ((0, 0, 0), (0, 0)),\n",
        "    ((0, 0, 1), (0, 1)),\n",
        "    ((0, 1, 0), (0, 1)),\n",
        "    ((0, 1, 1), (1, 0)),\n",
        "    ((1, 0, 0), (0, 1)),\n",
        "    ((1, 0, 1), (1, 0)),\n",
        "    ((1, 1, 0), (1, 0)),\n",
        "    ((1, 1, 1), (1, 1)),\n",
        "]\n",
        "\n",
        "qc = main(truth_table)"
      ],
      "metadata": {
        "colab": {
          "base_uri": "https://localhost:8080/",
          "height": 783
        },
        "id": "HL_uHeQyrpAH",
        "outputId": "9e2ba532-a74e-48c0-b5c9-53ba5e5fb8ab"
      },
      "execution_count": null,
      "outputs": [
        {
          "output_type": "stream",
          "name": "stdout",
          "text": [
            "Reversible Truth Table:\n",
            "Inputs: (0, 0, 0, 0), Outputs: (0, 0, 0, 0)\n",
            "Inputs: (0, 0, 1, 0), Outputs: (0, 1, 1, 0)\n",
            "Inputs: (0, 1, 0, 0), Outputs: (0, 1, 0, 0)\n",
            "Inputs: (1, 0, 0, 0), Outputs: (0, 1, 0, 1)\n",
            "Inputs: (0, 1, 1, 0), Outputs: (1, 0, 1, 0)\n",
            "Inputs: (1, 0, 1, 0), Outputs: (1, 0, 1, 1)\n",
            "Inputs: (1, 1, 0, 0), Outputs: (1, 0, 0, 0)\n",
            "Inputs: (1, 1, 1, 0), Outputs: (1, 1, 1, 0)\n",
            "Inputs: (0, 0, 0, 1), Outputs: (0, 0, 0, 1)\n",
            "Inputs: (0, 1, 0, 1), Outputs: (0, 0, 1, 0)\n",
            "Inputs: (0, 1, 1, 1), Outputs: (0, 1, 1, 1)\n",
            "Inputs: (1, 0, 1, 1), Outputs: (1, 1, 0, 0)\n",
            "Inputs: (1, 0, 0, 1), Outputs: (1, 0, 0, 1)\n",
            "Inputs: (1, 1, 0, 1), Outputs: (1, 1, 0, 1)\n",
            "Inputs: (0, 0, 1, 1), Outputs: (0, 0, 1, 1)\n",
            "Inputs: (1, 1, 1, 1), Outputs: (1, 1, 1, 1)\n",
            "\n",
            "Reed Muller Formulation:\n",
            "x0t = x1·x2 ⊕ x1·x2·x3 ⊕ x0·x2 ⊕ x0·x1 ⊕ x0·x3 ⊕ x0·x2·x3 ⊕ x0·x1·x3\n",
            "x1t = x2 ⊕ x2·x3 ⊕ x1 ⊕ x1·x3 ⊕ x0 ⊕ x0·x3 ⊕ x1·x2·x3 ⊕ x0·x2·x3 ⊕ x0·x1·x3\n",
            "x2t = x2 ⊕ x1·x3 ⊕ x0·x1·x3 ⊕ x1·x2·x3 ⊕ x0·x2·x3\n",
            "x3t = x0 ⊕ x0·x1 ⊕ x3 ⊕ x1·x3 ⊕ x0·x3 ⊕ x1·x2·x3 ⊕ x0·x2·x3\n"
          ]
        },
        {
          "output_type": "display_data",
          "data": {
            "text/plain": [
              "<Figure size 956.385x451.5 with 1 Axes>"
            ],
            "image/png": "[encoded data removed]"
          },
          "metadata": {}
        }
      ]
    }
  ]
}